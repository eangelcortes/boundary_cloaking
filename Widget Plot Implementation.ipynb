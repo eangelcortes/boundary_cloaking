{
 "cells": [
  {
   "cell_type": "code",
   "execution_count": 3,
   "metadata": {},
   "outputs": [
    {
     "name": "stdout",
     "output_type": "stream",
     "text": [
      "7.5.1\n"
     ]
    }
   ],
   "source": [
    "# Testing combination of layouts and plotting tools from ipywidgets library\n",
    "# Need to import ipyvolume for 3D Plots\n",
    "# Figures and bqplots do not work for Surface Plots ...\n",
    "#import ipywidgets\n",
    "import ipywidgets\n",
    "print(ipywidgets.__version__)\n",
    "\n",
    "import ipyvolume as pyv\n",
    "#import bqplots as bq\n",
    "from ipyvolume import plot_surface"
   ]
  },
  {
   "cell_type": "code",
   "execution_count": 3,
   "metadata": {},
   "outputs": [
    {
     "data": {
      "application/vnd.jupyter.widget-view+json": {
       "model_id": "edeacf61e30f41c4bf11a70639d1e515",
       "version_major": 2,
       "version_minor": 0
      },
      "text/plain": [
       "Tab(children=(Text(value='', description='test1'), Text(value='', description='test2')), _titles={'0': '0', '1…"
      ]
     },
     "metadata": {},
     "output_type": "display_data"
    }
   ],
   "source": [
    "tab_contents = ['test1', 'test2']\n",
    "children = [widgets.Text(description=name) for name in tab_contents]\n",
    "# Note that tabs only works with widgets or items compatible with ipywidgets\n",
    "tab = widgets.Tab()\n",
    "tab.children = children\n",
    "for i in range(len(children)):\n",
    "    tab.set_title(i, str(i))\n",
    "tab"
   ]
  },
  {
   "cell_type": "code",
   "execution_count": 4,
   "metadata": {},
   "outputs": [
    {
     "name": "stderr",
     "output_type": "stream",
     "text": [
      "/anaconda3/lib/python3.7/site-packages/matplotlib/__init__.py:855: MatplotlibDeprecationWarning: \n",
      "examples.directory is deprecated; in the future, examples will be found relative to the 'datapath' directory.\n",
      "  \"found relative to the 'datapath' directory.\".format(key))\n",
      "/anaconda3/lib/python3.7/site-packages/matplotlib/__init__.py:846: MatplotlibDeprecationWarning: \n",
      "The text.latex.unicode rcparam was deprecated in Matplotlib 2.2 and will be removed in 3.1.\n",
      "  \"2.2\", name=key, obj_type=\"rcparam\", addendum=addendum)\n",
      "/anaconda3/lib/python3.7/site-packages/seaborn/apionly.py:9: UserWarning: As seaborn no longer sets a default style on import, the seaborn.apionly module is deprecated. It will be removed in a future version.\n",
      "  warnings.warn(msg, UserWarning)\n"
     ]
    },
    {
     "data": {
      "application/vnd.jupyter.widget-view+json": {
       "model_id": "0272065bebdc42508ef52c259330c62d",
       "version_major": 2,
       "version_minor": 0
      },
      "text/plain": [
       "Tab(children=(VBox(children=(Dropdown(description='X', options=('sepal_length', 'sepal_width', 'petal_length',…"
      ]
     },
     "metadata": {},
     "output_type": "display_data"
    },
    {
     "data": {
      "image/png": "[encoded data removed]",
      "text/plain": [
       "<Figure size 432x288 with 1 Axes>"
      ]
     },
     "metadata": {
      "needs_background": "light"
     },
     "output_type": "display_data"
    }
   ],
   "source": [
    "# Example testing plotting with tabs\n",
    "# Works with interact, but interact is currently limited to 2D Plots\n",
    "# For 3D implementation, need to test with ipyvolume ...\n",
    "\n",
    "from ipywidgets import *\n",
    "import seaborn.apionly as sns\n",
    "df = sns.load_dataset('iris')\n",
    "import matplotlib.pyplot as plt\n",
    "\n",
    "#plot\n",
    "def plot_image(x):\n",
    "\n",
    "    data = df\n",
    "\n",
    "    if x != 'Select':\n",
    "        xplot = data[x]\n",
    "        sns.distplot(xplot)\n",
    "        plt.show()\n",
    "\n",
    "#define widgets\n",
    "x = widgets.Dropdown(\n",
    "        options=df.columns,\n",
    "        value=df.columns[0],\n",
    "        description='X'\n",
    "    )\n",
    "\n",
    "x.set_title  = 'x'\n",
    "\n",
    "#assign widgets to tabs\n",
    "tab_visualise = widgets.HBox([x])\n",
    "\n",
    "#create tabs\n",
    "tab_nest = widgets.Tab()\n",
    "# tab_nest.children = [tab_visualise]\n",
    "tab_nest.set_title(0, 'Visualise')\n",
    "\n",
    "\n",
    "#interact function in isolation\n",
    "f = interactive(plot_image, x = x);\n",
    "tab_nest.children = [VBox(children = f.children)]\n",
    "display(tab_nest)"
   ]
  },
  {
   "cell_type": "code",
   "execution_count": null,
   "metadata": {},
   "outputs": [],
   "source": []
  }
 ],
 "metadata": {
  "kernelspec": {
   "display_name": "Python 3",
   "language": "python",
   "name": "python3"
  },
  "language_info": {
   "codemirror_mode": {
    "name": "ipython",
    "version": 3
   },
   "file_extension": ".py",
   "mimetype": "text/x-python",
   "name": "python",
   "nbconvert_exporter": "python",
   "pygments_lexer": "ipython3",
   "version": "3.7.6"
  }
 },
 "nbformat": 4,
 "nbformat_minor": 2
}
